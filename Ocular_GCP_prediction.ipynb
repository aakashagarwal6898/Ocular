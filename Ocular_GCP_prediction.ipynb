{
  "nbformat": 4,
  "nbformat_minor": 0,
  "metadata": {
    "colab": {
      "name": "Ocular-GCP-prediction.ipynb",
      "provenance": [],
      "collapsed_sections": [],
      "mount_file_id": "15pw8ZCd78AcDBCpSkWM8fkl8iBjVNqi7",
      "authorship_tag": "ABX9TyMJ4HV/oZt5kFuRqe95Qy33",
      "include_colab_link": true
    },
    "kernelspec": {
      "name": "python3",
      "display_name": "Python 3"
    }
  },
  "cells": [
    {
      "cell_type": "markdown",
      "metadata": {
        "id": "view-in-github",
        "colab_type": "text"
      },
      "source": [
        "<a href=\"https://colab.research.google.com/github/aakashagarwal6898/Ocular/blob/master/Ocular_GCP_prediction.ipynb\" target=\"_parent\"><img src=\"https://colab.research.google.com/assets/colab-badge.svg\" alt=\"Open In Colab\"/></a>"
      ]
    },
    {
      "cell_type": "code",
      "metadata": {
        "id": "mc_UWOL1j6rr",
        "colab_type": "code",
        "colab": {}
      },
      "source": [
        "!pip install google-cloud-vision\n",
        "os.environ[\"GOOGLE_APPLICATION_CREDENTIALS\"]=\"YOUR_GCP_CREDENTIALS\""
      ],
      "execution_count": 0,
      "outputs": []
    },
    {
      "cell_type": "code",
      "metadata": {
        "id": "BI5xwtSccfPo",
        "colab_type": "code",
        "colab": {}
      },
      "source": [
        "from google.cloud import vision\n",
        "import io\n",
        "import os\n",
        "import json\n",
        "import spacy"
      ],
      "execution_count": 0,
      "outputs": []
    },
    {
      "cell_type": "code",
      "metadata": {
        "id": "C_aROPkDcp1w",
        "colab_type": "code",
        "colab": {}
      },
      "source": [
        "model_dir = \"path/to/saved_model\"\n",
        "nlpModel = spacy.load(model_dir)\n",
        "client = vision.ImageAnnotatorClient()"
      ],
      "execution_count": 0,
      "outputs": []
    },
    {
      "cell_type": "code",
      "metadata": {
        "id": "9ZakHBmsA0U_",
        "colab_type": "code",
        "colab": {}
      },
      "source": [
        "def vision_ocr(input_img):\n",
        "  file = input_img\n",
        "  with io.open(file, 'rb') as image_file:\n",
        "    content = image_file.read()\n",
        "    image = vision.types.Image(content=content)\n",
        "    text_response = client.text_detection(image=image)\n",
        "    texts = [text.description for text in text_response.text_annotations]\n",
        "    textToPredict = texts[0]\n",
        "    \n",
        "  return textToPredict\n",
        "\n",
        "\n",
        "def ner_predict(textToPredict):\n",
        "  doc = nlpModel(textToPredict)\n",
        "  max_amt = 0\n",
        "  i = 1\n",
        "  data = {}\n",
        "  items_list = []\n",
        "  # Iterating over every entitiy to create a dictionary\n",
        "  for ent in doc.ents:\n",
        "    # Saving only one instance of Total Bill Amount\n",
        "    if (ent.label_ == \"Total bill amount\"):\n",
        "      try:\n",
        "        amt = float(ent.text)\n",
        "        if amt > max_amt:\n",
        "          data[\"Total bill amount\"] = amt\n",
        "      except Exception as e:\n",
        "        pass\n",
        "    # Creating a list of Items\n",
        "    elif (ent.label_ == \"Items\"):\n",
        "      try:\n",
        "        items_list.append(ent.text)\n",
        "      except Exception as e:\n",
        "        print(e)\n",
        "    # Checking if the detected key is already present in the key,\n",
        "    # If yes then we create a new key to store that value instead of overwriting the previous one\n",
        "    else:\n",
        "      if ent.label_ in data.keys():\n",
        "        data[ent.label_+\"-\"+str(i)] = ent.text\n",
        "        i +=1\n",
        "      else:\n",
        "        data[ent.label_] = ent.text\n",
        "  # Staring the list of items using the Items key in the dictionary\n",
        "  data[\"Items\"]=items_list\n",
        "  # Sorting all the elements of the dictionary\n",
        "  data = dict(sorted(data.items()))\n",
        "  json_data = json.dumps(data, indent=2)\n",
        "\n",
        "  return json_data\n",
        "\n",
        "def get_prediction(input_img):\n",
        "  textToPredict = vision_ocr(input_img)\n",
        "  json_data = ner_predict(textToPredict)\n",
        "\n",
        "  return json_data\n",
        "\n",
        "\n",
        "\n",
        "\n",
        "\n"
      ],
      "execution_count": 0,
      "outputs": []
    },
    {
      "cell_type": "code",
      "metadata": {
        "id": "M-L9O-WKdQ7k",
        "colab_type": "code",
        "colab": {
          "base_uri": "https://localhost:8080/",
          "height": 221
        },
        "outputId": "ec3c2bfc-0c0d-4d7f-d892-2b4a5fe84031"
      },
      "source": [
        "json_data = get_prediction(\"path/to/input_image\")\n",
        "print(json_data)"
      ],
      "execution_count": 20,
      "outputs": [
        {
          "output_type": "stream",
          "text": [
            "{\n",
            "  \"Date\": \"02/02/19\",\n",
            "  \"Items\": [\n",
            "    \"Scallion Pancake\",\n",
            "    \"Little Juicy Pork Buns\",\n",
            "    \"Beef w Bak Choy (L)\",\n",
            "    \"Hunan Beef (L)\"\n",
            "  ],\n",
            "  \"Store address\": \"1902 Jericho Turnpike\\nNew Hyde Park NY 11040\",\n",
            "  \"Store name\": \"Chef Wang\",\n",
            "  \"Time\": \"02:14 PM\"\n",
            "}\n"
          ],
          "name": "stdout"
        }
      ]
    }
  ]
}