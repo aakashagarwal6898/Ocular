{
  "nbformat": 4,
  "nbformat_minor": 0,
  "metadata": {
    "colab": {
      "name": "relabel_script.ipynb",
      "version": "0.3.2",
      "provenance": [],
      "include_colab_link": true
    },
    "kernelspec": {
      "name": "python3",
      "display_name": "Python 3"
    }
  },
  "cells": [
    {
      "cell_type": "markdown",
      "metadata": {
        "id": "view-in-github",
        "colab_type": "text"
      },
      "source": [
        "<a href=\"https://colab.research.google.com/github/aakashagarwal6898/Ocular/blob/master/re-label_script.ipynb\" target=\"_parent\"><img src=\"https://colab.research.google.com/assets/colab-badge.svg\" alt=\"Open In Colab\"/></a>"
      ]
    },
    {
      "cell_type": "markdown",
      "metadata": {
        "id": "rIs0cUMref3A",
        "colab_type": "text"
      },
      "source": [
        "The following script is used to remove the old labels from the respective text files of train,test and validation data."
      ]
    },
    {
      "cell_type": "code",
      "metadata": {
        "id": "xIbLQFQw_oVJ",
        "colab_type": "code",
        "colab": {}
      },
      "source": [
        "import re     #import RegEx module"
      ],
      "execution_count": 0,
      "outputs": []
    },
    {
      "cell_type": "code",
      "metadata": {
        "id": "8q9CM2b-A1rD",
        "colab_type": "code",
        "colab": {}
      },
      "source": [
        "text_file = open(\"train.txt\",\"rt\")     #read old labels text file\n",
        "new_txt = open(\"train_new.txt\",\"a\")     #create text file for new labels\n",
        "\n",
        "for path in text_file:\n",
        "  single_path = re.search(\"^images.*tif\",path)     #search strings with similar pattern\n",
        "  new_txt.write(single_path.group())     #write only the part of string matched\n",
        "  new_txt.write(\"\\n\")     #new line after every string\n",
        "\n",
        "new_txt.close()    \n",
        "text_file.close()\n",
        "\n",
        "new_txt = open(\"train_new.txt\",\"rt\")     #read new labels text file\n",
        "print(new_txt.read(100))     #test if the script worked\n",
        "\n",
        "\n",
        "\n"
      ],
      "execution_count": 0,
      "outputs": []
    }
  ]
}